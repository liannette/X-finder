{
 "cells": [
  {
   "cell_type": "code",
   "execution_count": 2,
   "metadata": {},
   "outputs": [],
   "source": [
    "import os\n",
    "import pandas as pd\n",
    "import sqlite3\n",
    "import contextlib"
   ]
  },
  {
   "cell_type": "code",
   "execution_count": 3,
   "metadata": {},
   "outputs": [],
   "source": [
    "database_path = \"/data/s202633/X-finder/data/database/photorhabdus_xenorhabdus_old.db\"\n",
    "conn = sqlite3.connect(database_path)"
   ]
  },
  {
   "cell_type": "code",
   "execution_count": 4,
   "metadata": {},
   "outputs": [
    {
     "data": {
      "text/html": [
       "<div>\n",
       "<style scoped>\n",
       "    .dataframe tbody tr th:only-of-type {\n",
       "        vertical-align: middle;\n",
       "    }\n",
       "\n",
       "    .dataframe tbody tr th {\n",
       "        vertical-align: top;\n",
       "    }\n",
       "\n",
       "    .dataframe thead th {\n",
       "        text-align: right;\n",
       "    }\n",
       "</style>\n",
       "<table border=\"1\" class=\"dataframe\">\n",
       "  <thead>\n",
       "    <tr style=\"text-align: right;\">\n",
       "      <th></th>\n",
       "      <th>sublistID</th>\n",
       "      <th>host_type</th>\n",
       "      <th>file</th>\n",
       "      <th>organism</th>\n",
       "      <th>seq_accession</th>\n",
       "      <th>description</th>\n",
       "      <th>MIN(p.pfam_start)</th>\n",
       "      <th>MAX(p.pfam_end)</th>\n",
       "    </tr>\n",
       "  </thead>\n",
       "  <tbody>\n",
       "    <tr>\n",
       "      <th>0</th>\n",
       "      <td>13321</td>\n",
       "      <td>query</td>\n",
       "      <td>GCF_000196475.1_ASM19647v1_genomic.gbk</td>\n",
       "      <td>Photorhabdus asymbiotica</td>\n",
       "      <td>NC_012962.1</td>\n",
       "      <td>Photorhabdus asymbiotica, complete sequence</td>\n",
       "      <td>2474346</td>\n",
       "      <td>2490769</td>\n",
       "    </tr>\n",
       "    <tr>\n",
       "      <th>1</th>\n",
       "      <td>13322</td>\n",
       "      <td>ref</td>\n",
       "      <td>NBC_01231.gbk</td>\n",
       "      <td>Streptomyces cellulosae_0.8997 Unclassified.</td>\n",
       "      <td>NBC_01231_1</td>\n",
       "      <td>Streptomyces cellulosae_0.8997 strain NBC_01231</td>\n",
       "      <td>3795182</td>\n",
       "      <td>3804904</td>\n",
       "    </tr>\n",
       "  </tbody>\n",
       "</table>\n",
       "</div>"
      ],
      "text/plain": [
       "   sublistID host_type                                    file  \\\n",
       "0      13321     query  GCF_000196475.1_ASM19647v1_genomic.gbk   \n",
       "1      13322       ref                           NBC_01231.gbk   \n",
       "\n",
       "                                       organism seq_accession  \\\n",
       "0                      Photorhabdus asymbiotica   NC_012962.1   \n",
       "1  Streptomyces cellulosae_0.8997 Unclassified.   NBC_01231_1   \n",
       "\n",
       "                                       description  MIN(p.pfam_start)  \\\n",
       "0      Photorhabdus asymbiotica, complete sequence            2474346   \n",
       "1  Streptomyces cellulosae_0.8997 strain NBC_01231            3795182   \n",
       "\n",
       "   MAX(p.pfam_end)  \n",
       "0          2490769  \n",
       "1          3804904  "
      ]
     },
     "execution_count": 4,
     "metadata": {},
     "output_type": "execute_result"
    }
   ],
   "source": [
    "sql = \"\"\"\n",
    "    SELECT sublists.ROWID AS sublistID,\n",
    "            h.host_type, \n",
    "            h.file,\n",
    "            h.organism,\n",
    "            s.seq_accession, \n",
    "            s.description,\n",
    "            MIN(p.pfam_start),\n",
    "            MAX(p.pfam_end)\n",
    "        FROM sublists\n",
    "            INNER JOIN pfams AS p\n",
    "                ON pfamID BETWEEN first_pfamID AND last_pfamID\n",
    "            INNER JOIN seq_records AS s\n",
    "                ON p.seq_accession = s.seq_accession\n",
    "            INNER JOIN hosts AS h \n",
    "                ON s.hostID = h.hostID\n",
    "        WHERE clusterID = ?\n",
    "    GROUP BY sublistID\n",
    "    \"\"\"\n",
    "df = pd.read_sql_query(sql, conn, params=(200,))\n",
    "df"
   ]
  },
  {
   "cell_type": "code",
   "execution_count": 14,
   "metadata": {},
   "outputs": [
    {
     "data": {
      "text/html": [
       "<div>\n",
       "<style scoped>\n",
       "    .dataframe tbody tr th:only-of-type {\n",
       "        vertical-align: middle;\n",
       "    }\n",
       "\n",
       "    .dataframe tbody tr th {\n",
       "        vertical-align: top;\n",
       "    }\n",
       "\n",
       "    .dataframe thead th {\n",
       "        text-align: right;\n",
       "    }\n",
       "</style>\n",
       "<table border=\"1\" class=\"dataframe\">\n",
       "  <thead>\n",
       "    <tr style=\"text-align: right;\">\n",
       "      <th></th>\n",
       "      <th>cds_rowid</th>\n",
       "      <th>seq_accession</th>\n",
       "      <th>locus_tag</th>\n",
       "      <th>pfamID</th>\n",
       "      <th>pfam_num</th>\n",
       "      <th>antismash_core</th>\n",
       "      <th>pfam_start</th>\n",
       "      <th>pfam_end</th>\n",
       "      <th>pfams</th>\n",
       "    </tr>\n",
       "  </thead>\n",
       "  <tbody>\n",
       "    <tr>\n",
       "      <th>0</th>\n",
       "      <td>2931639</td>\n",
       "      <td>NC_012962.1</td>\n",
       "      <td>PAU_RS10680</td>\n",
       "      <td>3289479</td>\n",
       "      <td>107</td>\n",
       "      <td>0</td>\n",
       "      <td>2474346</td>\n",
       "      <td>2474799</td>\n",
       "      <td>(107, 0)</td>\n",
       "    </tr>\n",
       "    <tr>\n",
       "      <th>1</th>\n",
       "      <td>2931639</td>\n",
       "      <td>NC_012962.1</td>\n",
       "      <td>PAU_RS10680</td>\n",
       "      <td>3289480</td>\n",
       "      <td>8240</td>\n",
       "      <td>0</td>\n",
       "      <td>2474934</td>\n",
       "      <td>2475291</td>\n",
       "      <td>(8240, 0)</td>\n",
       "    </tr>\n",
       "    <tr>\n",
       "      <th>2</th>\n",
       "      <td>2931640</td>\n",
       "      <td>NC_012962.1</td>\n",
       "      <td>PAU_RS10685</td>\n",
       "      <td>3289481</td>\n",
       "      <td>7690</td>\n",
       "      <td>0</td>\n",
       "      <td>2475795</td>\n",
       "      <td>2476416</td>\n",
       "      <td>(7690, 0)</td>\n",
       "    </tr>\n",
       "    <tr>\n",
       "      <th>3</th>\n",
       "      <td>2931641</td>\n",
       "      <td>NC_012962.1</td>\n",
       "      <td>PAU_RS10690</td>\n",
       "      <td>3289482</td>\n",
       "      <td>13847</td>\n",
       "      <td>0</td>\n",
       "      <td>2477396</td>\n",
       "      <td>2477714</td>\n",
       "      <td>(13847, 0)</td>\n",
       "    </tr>\n",
       "    <tr>\n",
       "      <th>4</th>\n",
       "      <td>2931642</td>\n",
       "      <td>NC_012962.1</td>\n",
       "      <td>PAU_RS10695</td>\n",
       "      <td>3289483</td>\n",
       "      <td>975</td>\n",
       "      <td>0</td>\n",
       "      <td>2477859</td>\n",
       "      <td>2478591</td>\n",
       "      <td>(975, 0)</td>\n",
       "    </tr>\n",
       "    <tr>\n",
       "      <th>5</th>\n",
       "      <td>2931642</td>\n",
       "      <td>NC_012962.1</td>\n",
       "      <td>PAU_RS10695</td>\n",
       "      <td>3289484</td>\n",
       "      <td>550</td>\n",
       "      <td>0</td>\n",
       "      <td>2478666</td>\n",
       "      <td>2478858</td>\n",
       "      <td>(550, 0)</td>\n",
       "    </tr>\n",
       "    <tr>\n",
       "      <th>6</th>\n",
       "      <td>2931642</td>\n",
       "      <td>NC_012962.1</td>\n",
       "      <td>PAU_RS10695</td>\n",
       "      <td>3289485</td>\n",
       "      <td>501</td>\n",
       "      <td>0</td>\n",
       "      <td>2479191</td>\n",
       "      <td>2480313</td>\n",
       "      <td>(501, 0)</td>\n",
       "    </tr>\n",
       "    <tr>\n",
       "      <th>7</th>\n",
       "      <td>2931642</td>\n",
       "      <td>NC_012962.1</td>\n",
       "      <td>PAU_RS10695</td>\n",
       "      <td>3289486</td>\n",
       "      <td>668</td>\n",
       "      <td>0</td>\n",
       "      <td>2480388</td>\n",
       "      <td>2481609</td>\n",
       "      <td>(668, 0)</td>\n",
       "    </tr>\n",
       "    <tr>\n",
       "      <th>8</th>\n",
       "      <td>2931643</td>\n",
       "      <td>NC_012962.1</td>\n",
       "      <td>PAU_RS10700</td>\n",
       "      <td>3289487</td>\n",
       "      <td>550</td>\n",
       "      <td>1</td>\n",
       "      <td>2481831</td>\n",
       "      <td>2482011</td>\n",
       "      <td>(550, 1)</td>\n",
       "    </tr>\n",
       "    <tr>\n",
       "      <th>9</th>\n",
       "      <td>2931643</td>\n",
       "      <td>NC_012962.1</td>\n",
       "      <td>PAU_RS10700</td>\n",
       "      <td>3289488</td>\n",
       "      <td>8659</td>\n",
       "      <td>1</td>\n",
       "      <td>2482239</td>\n",
       "      <td>2482812</td>\n",
       "      <td>(8659, 1)</td>\n",
       "    </tr>\n",
       "    <tr>\n",
       "      <th>10</th>\n",
       "      <td>2931643</td>\n",
       "      <td>NC_012962.1</td>\n",
       "      <td>PAU_RS10700</td>\n",
       "      <td>3289489</td>\n",
       "      <td>698</td>\n",
       "      <td>1</td>\n",
       "      <td>2483550</td>\n",
       "      <td>2484222</td>\n",
       "      <td>(698, 1)</td>\n",
       "    </tr>\n",
       "    <tr>\n",
       "      <th>11</th>\n",
       "      <td>2931643</td>\n",
       "      <td>NC_012962.1</td>\n",
       "      <td>PAU_RS10700</td>\n",
       "      <td>3289490</td>\n",
       "      <td>2801</td>\n",
       "      <td>1</td>\n",
       "      <td>2484852</td>\n",
       "      <td>2485206</td>\n",
       "      <td>(2801, 1)</td>\n",
       "    </tr>\n",
       "    <tr>\n",
       "      <th>12</th>\n",
       "      <td>2931643</td>\n",
       "      <td>NC_012962.1</td>\n",
       "      <td>PAU_RS10700</td>\n",
       "      <td>3289491</td>\n",
       "      <td>109</td>\n",
       "      <td>1</td>\n",
       "      <td>2485227</td>\n",
       "      <td>2485977</td>\n",
       "      <td>(109, 1)</td>\n",
       "    </tr>\n",
       "    <tr>\n",
       "      <th>13</th>\n",
       "      <td>2931644</td>\n",
       "      <td>NC_012962.1</td>\n",
       "      <td>PAU_RS10705</td>\n",
       "      <td>3289492</td>\n",
       "      <td>550</td>\n",
       "      <td>0</td>\n",
       "      <td>2486104</td>\n",
       "      <td>2486287</td>\n",
       "      <td>(550, 0)</td>\n",
       "    </tr>\n",
       "    <tr>\n",
       "      <th>14</th>\n",
       "      <td>2931644</td>\n",
       "      <td>NC_012962.1</td>\n",
       "      <td>PAU_RS10705</td>\n",
       "      <td>3289493</td>\n",
       "      <td>501</td>\n",
       "      <td>0</td>\n",
       "      <td>2486599</td>\n",
       "      <td>2487736</td>\n",
       "      <td>(501, 0)</td>\n",
       "    </tr>\n",
       "    <tr>\n",
       "      <th>15</th>\n",
       "      <td>2931644</td>\n",
       "      <td>NC_012962.1</td>\n",
       "      <td>PAU_RS10705</td>\n",
       "      <td>3289494</td>\n",
       "      <td>668</td>\n",
       "      <td>0</td>\n",
       "      <td>2487826</td>\n",
       "      <td>2489023</td>\n",
       "      <td>(668, 0)</td>\n",
       "    </tr>\n",
       "    <tr>\n",
       "      <th>16</th>\n",
       "      <td>2931644</td>\n",
       "      <td>NC_012962.1</td>\n",
       "      <td>PAU_RS10705</td>\n",
       "      <td>3289495</td>\n",
       "      <td>550</td>\n",
       "      <td>0</td>\n",
       "      <td>2489098</td>\n",
       "      <td>2489263</td>\n",
       "      <td>(550, 0)</td>\n",
       "    </tr>\n",
       "    <tr>\n",
       "      <th>17</th>\n",
       "      <td>2931644</td>\n",
       "      <td>NC_012962.1</td>\n",
       "      <td>PAU_RS10705</td>\n",
       "      <td>3289496</td>\n",
       "      <td>501</td>\n",
       "      <td>0</td>\n",
       "      <td>2489581</td>\n",
       "      <td>2490769</td>\n",
       "      <td>(501, 0)</td>\n",
       "    </tr>\n",
       "  </tbody>\n",
       "</table>\n",
       "</div>"
      ],
      "text/plain": [
       "    cds_rowid seq_accession    locus_tag   pfamID pfam_num  antismash_core  \\\n",
       "0     2931639   NC_012962.1  PAU_RS10680  3289479      107               0   \n",
       "1     2931639   NC_012962.1  PAU_RS10680  3289480     8240               0   \n",
       "2     2931640   NC_012962.1  PAU_RS10685  3289481     7690               0   \n",
       "3     2931641   NC_012962.1  PAU_RS10690  3289482    13847               0   \n",
       "4     2931642   NC_012962.1  PAU_RS10695  3289483      975               0   \n",
       "5     2931642   NC_012962.1  PAU_RS10695  3289484      550               0   \n",
       "6     2931642   NC_012962.1  PAU_RS10695  3289485      501               0   \n",
       "7     2931642   NC_012962.1  PAU_RS10695  3289486      668               0   \n",
       "8     2931643   NC_012962.1  PAU_RS10700  3289487      550               1   \n",
       "9     2931643   NC_012962.1  PAU_RS10700  3289488     8659               1   \n",
       "10    2931643   NC_012962.1  PAU_RS10700  3289489      698               1   \n",
       "11    2931643   NC_012962.1  PAU_RS10700  3289490     2801               1   \n",
       "12    2931643   NC_012962.1  PAU_RS10700  3289491      109               1   \n",
       "13    2931644   NC_012962.1  PAU_RS10705  3289492      550               0   \n",
       "14    2931644   NC_012962.1  PAU_RS10705  3289493      501               0   \n",
       "15    2931644   NC_012962.1  PAU_RS10705  3289494      668               0   \n",
       "16    2931644   NC_012962.1  PAU_RS10705  3289495      550               0   \n",
       "17    2931644   NC_012962.1  PAU_RS10705  3289496      501               0   \n",
       "\n",
       "    pfam_start  pfam_end       pfams  \n",
       "0      2474346   2474799    (107, 0)  \n",
       "1      2474934   2475291   (8240, 0)  \n",
       "2      2475795   2476416   (7690, 0)  \n",
       "3      2477396   2477714  (13847, 0)  \n",
       "4      2477859   2478591    (975, 0)  \n",
       "5      2478666   2478858    (550, 0)  \n",
       "6      2479191   2480313    (501, 0)  \n",
       "7      2480388   2481609    (668, 0)  \n",
       "8      2481831   2482011    (550, 1)  \n",
       "9      2482239   2482812   (8659, 1)  \n",
       "10     2483550   2484222    (698, 1)  \n",
       "11     2484852   2485206   (2801, 1)  \n",
       "12     2485227   2485977    (109, 1)  \n",
       "13     2486104   2486287    (550, 0)  \n",
       "14     2486599   2487736    (501, 0)  \n",
       "15     2487826   2489023    (668, 0)  \n",
       "16     2489098   2489263    (550, 0)  \n",
       "17     2489581   2490769    (501, 0)  "
      ]
     },
     "execution_count": 14,
     "metadata": {},
     "output_type": "execute_result"
    }
   ],
   "source": [
    "sql = '''\n",
    "    SELECT c.ROWID as cds_rowid,\n",
    "    c.seq_accession,\n",
    "            c.locus_tag, \n",
    "            p.pfam_num, \n",
    "            p.antismash_core,\n",
    "            p.pfam_start,\n",
    "            p.pfam_end\n",
    "        FROM sublists\n",
    "            INNER JOIN pfams AS p\n",
    "                ON pfamID BETWEEN first_pfamID AND last_pfamID\n",
    "            INNER JOIN cds AS c\n",
    "                ON p.locus_tag = c.locus_tag\n",
    "        WHERE sublists.ROWID = ?\n",
    "        '''\n",
    "df = pd.read_sql_query(sql, conn, params=(13321,))\n",
    "df[\"pfams\"] = list(zip(df[\"pfam_num\"], df[\"antismash_core\"]))\n",
    "df"
   ]
  },
  {
   "cell_type": "code",
   "execution_count": 12,
   "metadata": {},
   "outputs": [
    {
     "data": {
      "text/plain": [
       "['107', '8240']"
      ]
     },
     "execution_count": 12,
     "metadata": {},
     "output_type": "execute_result"
    }
   ],
   "source": [
    "locus_tag = \"PAU_RS10680\"\n",
    "list(df[df[\"locus_tag\"]==locus_tag][\"pfam_num\"])"
   ]
  },
  {
   "cell_type": "code",
   "execution_count": 45,
   "metadata": {},
   "outputs": [
    {
     "data": {
      "text/plain": [
       "[<__main__.Cds at 0x7fd52316ed30>,\n",
       " <__main__.Cds at 0x7fd52316ed60>,\n",
       " <__main__.Cds at 0x7fd52316e130>,\n",
       " <__main__.Cds at 0x7fd52316ed00>,\n",
       " <__main__.Cds at 0x7fd52316ecd0>,\n",
       " <__main__.Cds at 0x7fd5263227f0>]"
      ]
     },
     "execution_count": 45,
     "metadata": {},
     "output_type": "execute_result"
    }
   ],
   "source": [
    "class Cds:\n",
    "    \n",
    "    def __init__(self, locus_tag, product, core_genome):\n",
    "        self.locus_tag = locus_tag\n",
    "        self.product = product\n",
    "        self.core_genome = core_genome\n",
    "    \n",
    "    @classmethod\n",
    "    def _from_row(cls, row):\n",
    "        cds = cls(*row)\n",
    "        return cds\n",
    "    \n",
    "\n",
    "with contextlib.closing(conn.cursor()) as c:\n",
    "    sql = \"\"\"\n",
    "        SELECT locus_tag, product, core_genome\n",
    "        FROM cds\n",
    "        WHERE ROWID BETWEEN 2931639 AND 2931644\n",
    "              AND seq_accession = ? \n",
    "        \"\"\"\n",
    "    rows = c.execute(sql, (\"NC_012962.1\",)).fetchall()\n",
    "all_cds = [Cds._from_row(row) for row in rows]\n",
    "all_cds"
   ]
  },
  {
   "cell_type": "code",
   "execution_count": 51,
   "metadata": {},
   "outputs": [
    {
     "name": "stdout",
     "output_type": "stream",
     "text": [
      "crotonyl-CoA carboxylase/reductase 0\n",
      "MFS transporter 0\n",
      "class I SAM-dependent methyltransferase 0\n",
      "AMP-binding protein 0\n",
      "type I polyketide synthase 0\n",
      "AMP-binding protein 1\n"
     ]
    }
   ],
   "source": [
    "for cds in all_cds:\n",
    "    print(cds.product, cds.core_genome)"
   ]
  },
  {
   "cell_type": "code",
   "execution_count": 54,
   "metadata": {},
   "outputs": [
    {
     "data": {
      "text/plain": [
       "{'crotonyl-CoA carboxylase/reductase': 0,\n",
       " 'MFS transporter': 0,\n",
       " 'class I SAM-dependent methyltransferase': 0,\n",
       " 'AMP-binding protein': 1,\n",
       " 'type I polyketide synthase': 0}"
      ]
     },
     "execution_count": 54,
     "metadata": {},
     "output_type": "execute_result"
    }
   ],
   "source": [
    "dict([(cds.product, cds.core_genome) for cds in all_cds])"
   ]
  },
  {
   "cell_type": "code",
   "execution_count": 53,
   "metadata": {},
   "outputs": [
    {
     "data": {
      "text/plain": [
       "[('crotonyl-CoA carboxylase/reductase', 0),\n",
       " ('MFS transporter', 0),\n",
       " ('class I SAM-dependent methyltransferase', 0),\n",
       " ('AMP-binding protein', 0),\n",
       " ('type I polyketide synthase', 0),\n",
       " ('AMP-binding protein', 1)]"
      ]
     },
     "execution_count": 53,
     "metadata": {},
     "output_type": "execute_result"
    }
   ],
   "source": [
    "[(cds.product, cds.core_genome) for cds in all_cds]"
   ]
  },
  {
   "cell_type": "code",
   "execution_count": null,
   "metadata": {},
   "outputs": [],
   "source": [
    "[x for b in a for x in b]"
   ]
  },
  {
   "cell_type": "code",
   "execution_count": 50,
   "metadata": {},
   "outputs": [
    {
     "data": {
      "text/plain": [
       "{'crotonyl-CoA carboxylase/reductase': {0},\n",
       " 'MFS transporter': {0},\n",
       " 'class I SAM-dependent methyltransferase': {0},\n",
       " 'AMP-binding protein': {0, 1},\n",
       " 'type I polyketide synthase': {0}}"
      ]
     },
     "execution_count": 50,
     "metadata": {},
     "output_type": "execute_result"
    }
   ],
   "source": [
    "cds_in_cluster_dict = dict()\n",
    "for cds in all_cds:\n",
    "    if cds.product in cds_in_cluster_dict.keys():\n",
    "        cds_in_cluster_dict[cds.product].add(cds.core_genome)\n",
    "    else: \n",
    "        cds_in_cluster_dict[cds.product] = set([cds.core_genome])\n",
    "cds_in_cluster_dict"
   ]
  },
  {
   "cell_type": "code",
   "execution_count": 46,
   "metadata": {},
   "outputs": [
    {
     "name": "stdout",
     "output_type": "stream",
     "text": [
      "PAU_RS10680 0 [('107', 0), ('8240', 0)]\n",
      "PAU_RS10685 0 [('7690', 0)]\n",
      "PAU_RS10690 0 [('13847', 0)]\n",
      "PAU_RS10695 0 [('975', 0), ('550', 0), ('501', 0), ('668', 0)]\n",
      "PAU_RS10700 0 [('550', 1), ('8659', 1), ('698', 1), ('2801', 1), ('109', 1)]\n",
      "PAU_RS10705 1 [('550', 0), ('501', 0), ('668', 0), ('550', 0), ('501', 0)]\n"
     ]
    }
   ],
   "source": [
    "for cds in all_cds:\n",
    "    # list of (pfam_num, antismash_core_binary)\n",
    "    cds.pfams = list(df[df[\"locus_tag\"]==cds.locus_tag][\"pfams\"])\n",
    "    print(cds.locus_tag, cds.core_genome, cds.pfams)"
   ]
  },
  {
   "cell_type": "code",
   "execution_count": 34,
   "metadata": {},
   "outputs": [
    {
     "name": "stdout",
     "output_type": "stream",
     "text": [
      "PAU_RS10680 [('107', 0), ('8240', 0)]\n",
      "PAU_RS10685 [('7690', 0)]\n",
      "PAU_RS10690 [('13847', 0)]\n",
      "PAU_RS10695 [('975', 0), ('550', 0), ('501', 0), ('668', 0)]\n",
      "PAU_RS10700 [('550', 1), ('8659', 1), ('698', 1), ('2801', 1), ('109', 1)]\n",
      "PAU_RS10705 [('550', 0), ('501', 0), ('668', 0), ('550', 0), ('501', 0)]\n"
     ]
    }
   ],
   "source": [
    "for cds in all_cds:\n",
    "    print(cds.locus_tag, cds.pfams)"
   ]
  },
  {
   "cell_type": "code",
   "execution_count": 55,
   "metadata": {},
   "outputs": [],
   "source": [
    "myset = {0, 1, None}\n",
    "if [1,0] in myset"
   ]
  }
 ],
 "metadata": {
  "kernelspec": {
   "display_name": "Python 3.8.8 ('Xfinder_dev')",
   "language": "python",
   "name": "python3"
  },
  "language_info": {
   "codemirror_mode": {
    "name": "ipython",
    "version": 3
   },
   "file_extension": ".py",
   "mimetype": "text/x-python",
   "name": "python",
   "nbconvert_exporter": "python",
   "pygments_lexer": "ipython3",
   "version": "3.8.8"
  },
  "orig_nbformat": 4,
  "vscode": {
   "interpreter": {
    "hash": "bf814e2520e1b1276afa5378dc9a8cca88147ee535e108791d44690176cf444d"
   }
  }
 },
 "nbformat": 4,
 "nbformat_minor": 2
}
